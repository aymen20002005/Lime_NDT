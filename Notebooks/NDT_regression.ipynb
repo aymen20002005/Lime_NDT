{
 "cells": [
  {
   "cell_type": "code",
   "execution_count": 3,
   "id": "03bdf067",
   "metadata": {},
   "outputs": [],
   "source": [
    "import sys\n",
    "import os\n",
    "sys.path.insert(0, os.path.abspath(os.path.join(os.path.dirname(\"\"), '..', 'Lime_NDT')))\n",
    "sys.path.insert(0, os.path.abspath(os.path.join(os.path.dirname(\"\"), '..')))"
   ]
  },
  {
   "cell_type": "code",
   "execution_count": 4,
   "id": "be88bedb",
   "metadata": {},
   "outputs": [
    {
     "name": "stdout",
     "output_type": "stream",
     "text": [
      "mean_leaf_values shape: (16, 1, 1)\n",
      "self.L: 16 self.C: 1\n",
      "mean_leaf_values shape after squeeze: (16, 1)\n"
     ]
    },
    {
     "name": "stderr",
     "output_type": "stream",
     "text": [
      "c:\\Users\\DELL\\Desktop\\Lime_NDT\\.venv\\lib\\site-packages\\keras\\src\\optimizers\\base_optimizer.py:86: UserWarning: Argument `decay` is no longer supported and will be ignored.\n",
      "  warnings.warn(\n"
     ]
    },
    {
     "name": "stdout",
     "output_type": "stream",
     "text": [
      "\u001b[1m157/157\u001b[0m \u001b[32m━━━━━━━━━━━━━━━━━━━━\u001b[0m\u001b[37m\u001b[0m \u001b[1m0s\u001b[0m 1ms/step  \n",
      "\u001b[1m1/1\u001b[0m \u001b[32m━━━━━━━━━━━━━━━━━━━━\u001b[0m\u001b[37m\u001b[0m \u001b[1m0s\u001b[0m 58ms/step\n",
      "Explication locale (feature, poids):\n",
      "[('5.80 < sepal length (cm) <= 6.40', 0.4666666666666667), ('sepal width (cm) <= 2.80', 0.3333333333333333), ('0.30 < petal width (cm) <= 1.30', 0.13333333333333333), ('4.30 < petal length (cm) <= 5.10', 0.06666666666666667)]\n"
     ]
    }
   ],
   "source": [
    "import numpy as np\n",
    "from sklearn.datasets import load_iris\n",
    "from sklearn.model_selection import train_test_split\n",
    "from sklearn.ensemble import RandomForestRegressor\n",
    "from Lime_NDT.lime_tabular import LimeTabularExplainer\n",
    "from Lime_NDT.utils.ndt_sklearn_wrapper import NDTRegressorWrapper\n",
    "\n",
    "# Charger le dataset Iris\n",
    "iris = load_iris()\n",
    "X = iris.data\n",
    "y = iris.target  # Pour la régression, on garde les labels numériques\n",
    "\n",
    "# Séparer en train/test\n",
    "X_train, X_test, y_train, y_test = train_test_split(X, y, random_state=42)\n",
    "\n",
    "# Entraîner le modèle global Random Forest\n",
    "rf = RandomForestRegressor(random_state=42)\n",
    "rf.fit(X_train, y_train)\n",
    "\n",
    "# Fonction de prédiction globale utilisant le Random Forest\n",
    "def predict_fn(X):\n",
    "    return rf.predict(X)\n",
    "\n",
    "# Créer l'explainer LIME\n",
    "explainer = LimeTabularExplainer(\n",
    "    X_train,\n",
    "    feature_names=iris.feature_names,\n",
    "    class_names=iris.target_names,\n",
    "    discretize_continuous=True,\n",
    "    mode='regression'\n",
    ")\n",
    "\n",
    "# Créer le modèle local NDT\n",
    "model_regressor = NDTRegressorWrapper(D=X_train.shape[1])\n",
    "\n",
    "# Expliquer une instance\n",
    "exp = explainer.explain_instance(\n",
    "    X_test[0],\n",
    "    predict_fn,\n",
    "    num_features=4,\n",
    "    model_regressor=model_regressor\n",
    ")\n",
    "\n",
    "print(\"Explication locale (feature, poids):\")\n",
    "print(exp.as_list())"
   ]
  },
  {
   "cell_type": "code",
   "execution_count": 5,
   "id": "4a97e7ba",
   "metadata": {},
   "outputs": [
    {
     "name": "stdout",
     "output_type": "stream",
     "text": [
      "\n",
      "Explication locale avec Ridge (feature, poids):\n",
      "[('4.30 < petal length (cm) <= 5.10', 0.1523554231485901), ('0.30 < petal width (cm) <= 1.30', -0.07196461596433029), ('sepal width (cm) <= 2.80', 0.04622829503013914), ('5.80 < sepal length (cm) <= 6.40', -0.009164312063786902)]\n"
     ]
    }
   ],
   "source": [
    "from sklearn.linear_model import Ridge\n",
    "\n",
    "# Créer le modèle local Ridge (régression linéaire)\n",
    "ridge_regressor = Ridge(alpha=1.0, fit_intercept=True, random_state=42)\n",
    "\n",
    "# Expliquer la même instance avec Ridge comme modèle local\n",
    "exp_ridge = explainer.explain_instance(\n",
    "    X_test[0],\n",
    "    predict_fn,\n",
    "    num_features=4,\n",
    "    model_regressor=ridge_regressor\n",
    ")\n",
    "\n",
    "print(\"\\nExplication locale avec Ridge (feature, poids):\")\n",
    "print(exp_ridge.as_list())"
   ]
  }
 ],
 "metadata": {
  "kernelspec": {
   "display_name": ".venv",
   "language": "python",
   "name": "python3"
  },
  "language_info": {
   "codemirror_mode": {
    "name": "ipython",
    "version": 3
   },
   "file_extension": ".py",
   "mimetype": "text/x-python",
   "name": "python",
   "nbconvert_exporter": "python",
   "pygments_lexer": "ipython3",
   "version": "3.10.11"
  }
 },
 "nbformat": 4,
 "nbformat_minor": 5
}
